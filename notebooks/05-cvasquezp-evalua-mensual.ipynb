{
 "cells": [
  {
   "cell_type": "markdown",
   "id": "5bcf5eb7-dd09-463d-8e79-203a7e8f3524",
   "metadata": {
    "jp-MarkdownHeadingCollapsed": true
   },
   "source": [
    "## Análisis del modelo durante distintos periodos (meses) del año 2020\n",
    "\n",
    "### Pasos\n",
    "\n",
    ">Carga el modelo entrenado (enero)\n",
    "\n",
    ">Evalúa varios meses (lista MONTHS)\n",
    "\n",
    ">Calcula F1 y nº de ejemplos\n",
    "\n",
    ">Guarda resultados en reports/metrics_monthly_2020.csv\n",
    "\n",
    ">Genera un gráfico reports/figures/f1_monthly.png"
   ]
  },
  {
   "cell_type": "markdown",
   "id": "c9b0a116-2548-4810-ac50-8344d85bcbe7",
   "metadata": {},
   "source": [
    "## Bootstrap e imports"
   ]
  },
  {
   "cell_type": "code",
   "execution_count": 2,
   "id": "7b5f8c07-352a-40ae-95bd-957e7720f2f3",
   "metadata": {},
   "outputs": [
    {
     "data": {
      "text/plain": [
       "(PosixPath('/home/cristian/taxi-tip-classifier/reports'),\n",
       " PosixPath('/home/cristian/taxi-tip-classifier/reports/figures'))"
      ]
     },
     "execution_count": 2,
     "metadata": {},
     "output_type": "execute_result"
    }
   ],
   "source": [
    "# Bootstrap: agrega <repo>/src y <repo>/ al PYTHONPATH para importar los módulos y config\n",
    "import sys\n",
    "from pathlib import Path\n",
    "\n",
    "NB_ROOT = Path.cwd()            # notebooks/\n",
    "ROOT = NB_ROOT.parent           # repo/\n",
    "SRC = ROOT / \"src\"\n",
    "sys.path.append(str(SRC))       # para importar src/*\n",
    "sys.path.append(str(ROOT))      # para importar config.py (en la raíz)\n",
    "\n",
    "# Imports del proyecto\n",
    "import config\n",
    "from data.dataset import load_data\n",
    "from models.predict_model import (\n",
    "    load_model, make_dataset_from_raw,\n",
    "    predict_proba, predict_labels_from_proba, evaluate_binary\n",
    ")\n",
    "\n",
    "# Libs estándar\n",
    "import pandas as pd\n",
    "import matplotlib.pyplot as plt\n",
    "\n",
    "# Carpetas de salida\n",
    "REPORTS_DIR = ROOT / \"reports\"\n",
    "FIGURES_DIR = REPORTS_DIR / \"figures\"\n",
    "REPORTS_DIR.mkdir(parents=True, exist_ok=True)\n",
    "FIGURES_DIR.mkdir(parents=True, exist_ok=True)\n",
    "\n",
    "REPORTS_DIR, FIGURES_DIR\n"
   ]
  },
  {
   "cell_type": "markdown",
   "id": "c44dfc82-7aa4-49a8-9cbd-f1b1b23bfbb1",
   "metadata": {},
   "source": [
    "## Cargar modelo y define meses"
   ]
  },
  {
   "cell_type": "code",
   "execution_count": 3,
   "id": "df04b8cd-a980-484c-88ad-e2a1ad0c99bb",
   "metadata": {},
   "outputs": [
    {
     "data": {
      "text/plain": [
       "PosixPath('/home/cristian/taxi-tip-classifier/models/random_forest.joblib')"
      ]
     },
     "execution_count": 3,
     "metadata": {},
     "output_type": "execute_result"
    }
   ],
   "source": [
    "# Carga del modelo entrenado\n",
    "MODEL_PATH = config.MODEL_PATH          # src/config.py ya lo define como <repo>/models/random_forest.joblib\n",
    "model = load_model(MODEL_PATH)\n",
    "MODEL_PATH"
   ]
  },
  {
   "cell_type": "code",
   "execution_count": 4,
   "id": "b24d5cad-d2c9-4fc6-b3ba-39c566428c69",
   "metadata": {},
   "outputs": [
    {
     "data": {
      "text/plain": [
       "[2, 4, 6, 8, 10, 12]"
      ]
     },
     "execution_count": 4,
     "metadata": {},
     "output_type": "execute_result"
    }
   ],
   "source": [
    "# Elige los meses a evaluar (en 2020). Mínimo 3.\n",
    "MONTHS = [2, 4, 6, 8, 10, 12]   # Feb, Mar, Abr (puedes añadir más)\n",
    "MONTHS"
   ]
  },
  {
   "cell_type": "markdown",
   "id": "f29fe9ee-0996-4477-b36d-a6d1e824c7d2",
   "metadata": {},
   "source": [
    "## Función de evaluación mensual (automatiza)"
   ]
  },
  {
   "cell_type": "code",
   "execution_count": 5,
   "id": "96128931-b927-424c-b5f0-080abd7afc3e",
   "metadata": {},
   "outputs": [],
   "source": [
    "def evaluate_multiple_months(model, months, year=2020, target_col=\"high_tip\", threshold=0.5):\n",
    "    \"\"\"\n",
    "    Descarga cada mes desde la CDN, preprocesa de acuerdo al pipeline y calcula métricas.\n",
    "    Devuelve un DataFrame con columnas: mes, ejemplos, f1.\n",
    "    \"\"\"\n",
    "    rows = []\n",
    "    for m in months:\n",
    "        url = f\"https://d37ci6vzurychx.cloudfront.net/trip-data/yellow_tripdata_{year}-{m:02d}.parquet\"\n",
    "        print(f\"▶ Evaluando {year}-{m:02d} …\")\n",
    "        try:\n",
    "            df_raw = load_data(url, filetype=\"parquet\")\n",
    "            X, y, _ = make_dataset_from_raw(df_raw, target_col=target_col)\n",
    "\n",
    "            proba = predict_proba(model, X)\n",
    "            y_pred = predict_labels_from_proba(proba, threshold=threshold)\n",
    "            metrics = evaluate_binary(y_true=y, y_pred=y_pred, y_proba=proba)\n",
    "\n",
    "            rows.append({\n",
    "                \"mes\": m,\n",
    "                \"ejemplos\": int(len(y)),\n",
    "                \"f1\": float(metrics[\"f1\"])\n",
    "            })\n",
    "        except Exception as e:\n",
    "            print(f\"  ⚠️  Error evaluando {year}-{m:02d}: {e}\")\n",
    "            rows.append({\"mes\": m, \"ejemplos\": 0, \"f1\": None})\n",
    "\n",
    "    return pd.DataFrame(rows).sort_values(\"mes\").reset_index(drop=True)\n"
   ]
  },
  {
   "cell_type": "markdown",
   "id": "a4347044-a826-44c4-bf2c-5dfb8b774cac",
   "metadata": {},
   "source": [
    "## Ejecuta evaluación y guarda CSV"
   ]
  },
  {
   "cell_type": "code",
   "execution_count": 6,
   "id": "0be62bf6-05fa-4aba-bdd0-e881db985c97",
   "metadata": {},
   "outputs": [
    {
     "name": "stdout",
     "output_type": "stream",
     "text": [
      "▶ Evaluando 2020-02 …\n",
      "▶ Evaluando 2020-04 …\n",
      "▶ Evaluando 2020-06 …\n",
      "▶ Evaluando 2020-08 …\n",
      "▶ Evaluando 2020-10 …\n",
      "▶ Evaluando 2020-12 …\n"
     ]
    },
    {
     "data": {
      "text/html": [
       "<div>\n",
       "<style scoped>\n",
       "    .dataframe tbody tr th:only-of-type {\n",
       "        vertical-align: middle;\n",
       "    }\n",
       "\n",
       "    .dataframe tbody tr th {\n",
       "        vertical-align: top;\n",
       "    }\n",
       "\n",
       "    .dataframe thead th {\n",
       "        text-align: right;\n",
       "    }\n",
       "</style>\n",
       "<table border=\"1\" class=\"dataframe\">\n",
       "  <thead>\n",
       "    <tr style=\"text-align: right;\">\n",
       "      <th></th>\n",
       "      <th>mes</th>\n",
       "      <th>ejemplos</th>\n",
       "      <th>f1</th>\n",
       "    </tr>\n",
       "  </thead>\n",
       "  <tbody>\n",
       "    <tr>\n",
       "      <th>0</th>\n",
       "      <td>2</td>\n",
       "      <td>6276854</td>\n",
       "      <td>0.734739</td>\n",
       "    </tr>\n",
       "    <tr>\n",
       "      <th>1</th>\n",
       "      <td>4</td>\n",
       "      <td>236611</td>\n",
       "      <td>0.610953</td>\n",
       "    </tr>\n",
       "    <tr>\n",
       "      <th>2</th>\n",
       "      <td>6</td>\n",
       "      <td>546843</td>\n",
       "      <td>0.647287</td>\n",
       "    </tr>\n",
       "    <tr>\n",
       "      <th>3</th>\n",
       "      <td>8</td>\n",
       "      <td>1001832</td>\n",
       "      <td>0.680687</td>\n",
       "    </tr>\n",
       "    <tr>\n",
       "      <th>4</th>\n",
       "      <td>10</td>\n",
       "      <td>1673052</td>\n",
       "      <td>0.721151</td>\n",
       "    </tr>\n",
       "    <tr>\n",
       "      <th>5</th>\n",
       "      <td>12</td>\n",
       "      <td>1453523</td>\n",
       "      <td>0.716684</td>\n",
       "    </tr>\n",
       "  </tbody>\n",
       "</table>\n",
       "</div>"
      ],
      "text/plain": [
       "   mes  ejemplos        f1\n",
       "0    2   6276854  0.734739\n",
       "1    4    236611  0.610953\n",
       "2    6    546843  0.647287\n",
       "3    8   1001832  0.680687\n",
       "4   10   1673052  0.721151\n",
       "5   12   1453523  0.716684"
      ]
     },
     "metadata": {},
     "output_type": "display_data"
    },
    {
     "data": {
      "text/plain": [
       "PosixPath('/home/cristian/taxi-tip-classifier/reports/metrics_monthly_2020.csv')"
      ]
     },
     "execution_count": 6,
     "metadata": {},
     "output_type": "execute_result"
    }
   ],
   "source": [
    "df_results = evaluate_multiple_months(model, MONTHS, year=2020)\n",
    "display(df_results)\n",
    "\n",
    "# Guardar resultados\n",
    "out_csv = REPORTS_DIR / \"metrics_monthly_2020.csv\"\n",
    "df_results.to_csv(out_csv, index=False)\n",
    "out_csv\n"
   ]
  },
  {
   "cell_type": "markdown",
   "id": "204e332c-c0f8-4c66-8afb-0508aa06190b",
   "metadata": {},
   "source": [
    "## Visualización (línea)"
   ]
  },
  {
   "cell_type": "code",
   "execution_count": 7,
   "id": "a9f856ad-c06e-466c-9d0b-b97ac7f9a36c",
   "metadata": {},
   "outputs": [
    {
     "data": {
      "image/png": "[encoded data removed]",
      "text/plain": [
       "<Figure size 700x400 with 1 Axes>"
      ]
     },
     "metadata": {},
     "output_type": "display_data"
    },
    {
     "data": {
      "text/plain": [
       "PosixPath('/home/cristian/taxi-tip-classifier/reports/figures/f1_monthly.png')"
      ]
     },
     "execution_count": 7,
     "metadata": {},
     "output_type": "execute_result"
    }
   ],
   "source": [
    "# Gráfico de F1 por mes\n",
    "plt.figure(figsize=(7,4))\n",
    "plt.plot(df_results[\"mes\"], df_results[\"f1\"], marker=\"o\")\n",
    "plt.xticks(df_results[\"mes\"])\n",
    "plt.ylim(0, 1)\n",
    "plt.xlabel(\"Mes 2020\")\n",
    "plt.ylabel(\"F1-score\")\n",
    "plt.title(\"Rendimiento mensual del modelo\")\n",
    "plt.grid(True, alpha=0.3)\n",
    "\n",
    "fig_path = FIGURES_DIR / \"f1_monthly.png\"\n",
    "plt.savefig(fig_path, bbox_inches=\"tight\", dpi=150)\n",
    "plt.show()\n",
    "\n",
    "fig_path\n"
   ]
  },
  {
   "cell_type": "markdown",
   "id": "8240a7bd-8ba3-42f0-9b26-bc01431c6b55",
   "metadata": {},
   "source": [
    "## Tabla extendida con media y desviación"
   ]
  },
  {
   "cell_type": "code",
   "execution_count": 10,
   "id": "1e9ea499-4dde-450c-9dae-1bd4bc8bb3f0",
   "metadata": {},
   "outputs": [
    {
     "data": {
      "text/html": [
       "<div>\n",
       "<style scoped>\n",
       "    .dataframe tbody tr th:only-of-type {\n",
       "        vertical-align: middle;\n",
       "    }\n",
       "\n",
       "    .dataframe tbody tr th {\n",
       "        vertical-align: top;\n",
       "    }\n",
       "\n",
       "    .dataframe thead th {\n",
       "        text-align: right;\n",
       "    }\n",
       "</style>\n",
       "<table border=\"1\" class=\"dataframe\">\n",
       "  <thead>\n",
       "    <tr style=\"text-align: right;\">\n",
       "      <th></th>\n",
       "      <th>f1_media</th>\n",
       "      <th>f1_std</th>\n",
       "      <th>meses_ok</th>\n",
       "      <th>total_meses</th>\n",
       "    </tr>\n",
       "  </thead>\n",
       "  <tbody>\n",
       "    <tr>\n",
       "      <th>0</th>\n",
       "      <td>0.68525</td>\n",
       "      <td>0.04839</td>\n",
       "      <td>6</td>\n",
       "      <td>6</td>\n",
       "    </tr>\n",
       "  </tbody>\n",
       "</table>\n",
       "</div>"
      ],
      "text/plain": [
       "   f1_media   f1_std  meses_ok  total_meses\n",
       "0   0.68525  0.04839         6            6"
      ]
     },
     "execution_count": 10,
     "metadata": {},
     "output_type": "execute_result"
    }
   ],
   "source": [
    "resumen = {\n",
    "    \"f1_media\": df_results[\"f1\"].dropna().mean(),\n",
    "    \"f1_std\": df_results[\"f1\"].dropna().std(),\n",
    "    \"meses_ok\": int(df_results[\"f1\"].notna().sum()),\n",
    "    \"total_meses\": int(len(df_results))\n",
    "}\n",
    "pd.DataFrame([resumen])\n"
   ]
  },
  {
   "cell_type": "markdown",
   "id": "70f7a586-c75c-4ff3-a582-7041436b533b",
   "metadata": {},
   "source": [
    "## Análisis\n",
    "\n",
    ">El F1 muestra una caida en los meses de febrero a abril, probablemnte incidido por en comienzo de la pandemia de COVID-19. Luego gradualmente comienza a recuperar hasta estabilizarse hacia fin de año en valores que se acercan a valores pre-pandemia. Esto puede significar que si bien al comienzo de la pandemia hubo una fuerte restricción de los viajes, con los meses hubo una tendencia a normalizarse, lo que tiene sentido con el hecho que que al impacto inicial, vino un proceso de adaptación.\n",
    "\n",
    "\n",
    ">Puede tambibién haber una componente estacional/meterológica en lo que muestra el modelo, lo cual se puede conprobar haciendo un análisis comparativos con años normales, sin pandemia. Queda plantaado.\n",
    "\n",
    ">Por lo anterior, se plantea enriquecer el análisis con datos temporales/meteorológicas adicionales. Consultar a otras fuentes, como el NOAA. Queda Planteado.\n",
    "\n",
    ">Para mejorar el modelo, se puede reentrenar en periodos intermedios durante el año.\n",
    "\n",
    ">Se recomienda usar validación time-series split, Queda planteado\n",
    "\n",
    ">Se recomienda monitorear el drift y re-entrenar cuando F1 baje de un cierto umbral. Por ejemplo, 0.7, y comparar lso resultados. Queda planteado"
   ]
  }
 ],
 "metadata": {
  "kernelspec": {
   "display_name": "Python (taxi)",
   "language": "python",
   "name": "taxi"
  },
  "language_info": {
   "codemirror_mode": {
    "name": "ipython",
    "version": 3
   },
   "file_extension": ".py",
   "mimetype": "text/x-python",
   "name": "python",
   "nbconvert_exporter": "python",
   "pygments_lexer": "ipython3",
   "version": "3.10.18"
  }
 },
 "nbformat": 4,
 "nbformat_minor": 5
}

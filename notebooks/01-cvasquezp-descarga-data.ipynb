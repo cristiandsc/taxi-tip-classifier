{
 "cells": [
  {
   "cell_type": "markdown",
   "metadata": {
    "colab_type": "text",
    "id": "view-in-github"
   },
   "source": [
    "<a href=\"https://colab.research.google.com/github/cristiandsc/taxi-tip-classifier/blob/main/00_nyc_taxi_model.ipynb\" target=\"_parent\"><img src=\"https://colab.research.google.com/assets/colab-badge.svg\" alt=\"Open In Colab\"/></a>"
   ]
  },
  {
   "cell_type": "markdown",
   "metadata": {
    "id": "TcH96_iUu5aM"
   },
   "source": [
    "# Clasificador de Propinas para Viajes en Taxi en NYC (2020)\n"
   ]
  },
  {
   "cell_type": "markdown",
   "metadata": {
    "id": "fu0lAPirwwVE"
   },
   "source": [
    "## Cargando las librerías necesarias"
   ]
  },
  {
   "cell_type": "code",
   "execution_count": 2,
   "metadata": {
    "id": "rOBvAuT_Okw0"
   },
   "outputs": [],
   "source": [
    "# permitir importar desde src/\n",
    "import sys, os\n",
    "sys.path.append(os.path.join(os.getcwd(), \"src\"))\n",
    "\n",
    "from data.dataset import load_data\n",
    "import pandas as pd  # por si quieres hacer df.head(), shape, etc.\n"
   ]
  },
  {
   "cell_type": "markdown",
   "metadata": {
    "id": "UN6A9kIRxT6S"
   },
   "source": [
    "## Leemos los datos de enero 2020 (entrenamiento)"
   ]
  },
  {
   "cell_type": "code",
   "execution_count": null,
   "metadata": {},
   "outputs": [],
   "source": [
    "URL_JAN = \"https://d37ci6vzurychx.cloudfront.net/trip-data/yellow_tripdata_2020-01.parquet\"\n",
    "df_jan = load_data(URL_JAN, filetype=\"parquet\")\n",
    "df_jan.head()\n"
   ]
  }
 ],
 "metadata": {
  "accelerator": "GPU",
  "colab": {
   "gpuType": "T4",
   "include_colab_link": true,
   "provenance": []
  },
  "kernelspec": {
   "display_name": "Python 3 (ipykernel)",
   "language": "python",
   "name": "python3"
  },
  "language_info": {
   "codemirror_mode": {
    "name": "ipython",
    "version": 3
   },
   "file_extension": ".py",
   "mimetype": "text/x-python",
   "name": "python",
   "nbconvert_exporter": "python",
   "pygments_lexer": "ipython3",
   "version": "3.12.7"
  }
 },
 "nbformat": 4,
 "nbformat_minor": 4
}

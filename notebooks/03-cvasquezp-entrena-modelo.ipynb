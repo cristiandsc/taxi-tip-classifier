{
 "cells": [
  {
   "cell_type": "markdown",
   "id": "c4a4a827-e5b8-48c7-a45c-cd4458e37a0a",
   "metadata": {},
   "source": [
    "## Ajustamos el modelo con los datos de entrenamiento"
   ]
  },
  {
   "cell_type": "code",
   "execution_count": 1,
   "id": "1dda9a31-482a-46c4-826b-574a6a4849cd",
   "metadata": {},
   "outputs": [
    {
     "name": "stdout",
     "output_type": "stream",
     "text": [
      "Modelo guardado en: /home/cristian/taxi-tip-classifier/models/random_forest.joblib\n",
      "F1 en train: 0.729\n"
     ]
    }
   ],
   "source": [
    "# bootstrap para importar desde src/\n",
    "import sys, os\n",
    "from pathlib import Path\n",
    "root = Path.cwd()\n",
    "if (root / \"src\").exists():\n",
    "    sys.path.append(str(root / \"src\"))\n",
    "elif (root.parent / \"src\").exists():\n",
    "    sys.path.append(str(root.parent / \"src\"))\n",
    "\n",
    "# imports propios\n",
    "from features.build_features import preprocess, features\n",
    "from data.dataset import load_data\n",
    "from models.train_model import train_random_forest\n",
    "\n",
    "# cargar dataset preprocesado\n",
    "df = load_data(\"../data/processed/taxi_train.parquet\", filetype=\"parquet\")\n",
    "\n",
    "# raíz del proyecto (sube un nivel desde notebooks/)\n",
    "ROOT = Path.cwd().parent\n",
    "MODEL_PATH = ROOT / \"models\" / \"random_forest.joblib\"\n",
    "\n",
    "# entrenar modelo\n",
    "clf, f1, model_path = train_random_forest(df, target_col=\"high_tip\", features=features, model_path=MODEL_PATH)\n",
    "\n",
    "print(f\"Modelo guardado en: {model_path}\")\n",
    "print(f\"F1 en train: {f1:.3f}\")\n"
   ]
  }
 ],
 "metadata": {
  "kernelspec": {
   "display_name": "Python 3 (ipykernel)",
   "language": "python",
   "name": "python3"
  },
  "language_info": {
   "codemirror_mode": {
    "name": "ipython",
    "version": 3
   },
   "file_extension": ".py",
   "mimetype": "text/x-python",
   "name": "python",
   "nbconvert_exporter": "python",
   "pygments_lexer": "ipython3",
   "version": "3.12.7"
  }
 },
 "nbformat": 4,
 "nbformat_minor": 5
}

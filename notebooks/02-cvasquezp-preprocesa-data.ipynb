{
 "cells": [
  {
   "cell_type": "markdown",
   "id": "5bad6a51-5889-4005-8450-d55bad1b30fb",
   "metadata": {},
   "source": [
    "## Preprocesamiento"
   ]
  },
  {
   "cell_type": "code",
   "execution_count": 2,
   "id": "b697967f-b884-4965-a328-dada3c48308b",
   "metadata": {},
   "outputs": [
    {
     "name": "stdout",
     "output_type": "stream",
     "text": [
      "✅ Dataset preprocesado guardado en /home/cristian/taxi-tip-classifier/data/processed/taxi_train.parquet\n"
     ]
    },
    {
     "data": {
      "text/plain": [
       "(   pickup_weekday  pickup_hour  work_hours  pickup_minute  passenger_count  \\\n",
       " 0             2.0          0.0         0.0           28.0              1.0   \n",
       " 1             2.0          0.0         0.0           35.0              1.0   \n",
       " 2             2.0          0.0         0.0           47.0              1.0   \n",
       " 3             2.0          0.0         0.0           55.0              1.0   \n",
       " 4             2.0          0.0         0.0            1.0              1.0   \n",
       " \n",
       "    trip_distance  trip_time  trip_speed  PULocationID  DOLocationID  \\\n",
       " 0            1.2      288.0    0.004167         238.0         239.0   \n",
       " 1            1.2      445.0    0.002697         239.0         238.0   \n",
       " 2            0.6      371.0    0.001617         238.0         238.0   \n",
       " 3            0.8      291.0    0.002749         238.0         151.0   \n",
       " 4            0.0      138.0    0.000000         193.0         193.0   \n",
       " \n",
       "    RatecodeID  high_tip  \n",
       " 0         1.0         1  \n",
       " 1         1.0         1  \n",
       " 2         1.0         0  \n",
       " 3         1.0         1  \n",
       " 4         1.0         0  ,\n",
       " high_tip\n",
       " 1           0.565\n",
       " 0           0.435\n",
       " Name: proportion, dtype: float64)"
      ]
     },
     "execution_count": 2,
     "metadata": {},
     "output_type": "execute_result"
    }
   ],
   "source": [
    "# bootstrap para importar desde src/\n",
    "import sys\n",
    "from pathlib import Path\n",
    "\n",
    "root = Path.cwd()\n",
    "if (root / \"src\").exists():\n",
    "    sys.path.append(str(root / \"src\"))\n",
    "elif (root.parent / \"src\").exists():\n",
    "    sys.path.append(str(root.parent / \"src\"))\n",
    "\n",
    "# imports del proyecto\n",
    "from data.dataset import load_data\n",
    "from features.build_features import preprocess, features\n",
    "from config import PROCESSED_DIR, TRAIN_PARQUET\n",
    "\n",
    "# 1. Cargar datos crudos\n",
    "data_taxi_url = \"https://d37ci6vzurychx.cloudfront.net/trip-data/yellow_tripdata_2020-01.parquet\"\n",
    "taxi_raw = load_data(data_taxi_url, filetype=\"parquet\")\n",
    "\n",
    "# 2. Preprocesar\n",
    "taxi_train = preprocess(taxi_raw, target_col=\"high_tip\")\n",
    "\n",
    "# 3. Guardar dataset preprocesado en data/processed/\n",
    "PROCESSED_DIR.mkdir(parents=True, exist_ok=True)\n",
    "taxi_train.to_parquet(TRAIN_PARQUET, index=False)\n",
    "\n",
    "print(f\"✅ Dataset preprocesado guardado en {TRAIN_PARQUET}\")\n",
    "\n",
    "# 4. Vista previa\n",
    "taxi_train.head(), taxi_train[[\"high_tip\"]].value_counts(normalize=True).round(3)\n",
    "\n"
   ]
  }
 ],
 "metadata": {
  "kernelspec": {
   "display_name": "Python 3 (ipykernel)",
   "language": "python",
   "name": "python3"
  },
  "language_info": {
   "codemirror_mode": {
    "name": "ipython",
    "version": 3
   },
   "file_extension": ".py",
   "mimetype": "text/x-python",
   "name": "python",
   "nbconvert_exporter": "python",
   "pygments_lexer": "ipython3",
   "version": "3.10.18"
  }
 },
 "nbformat": 4,
 "nbformat_minor": 5
}

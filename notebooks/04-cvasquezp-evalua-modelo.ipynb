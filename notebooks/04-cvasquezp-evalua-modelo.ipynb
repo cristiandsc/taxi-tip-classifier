{
 "cells": [
  {
   "cell_type": "markdown",
   "id": "1a960fe8-08b0-4a5a-bafe-5a3a37bc5a02",
   "metadata": {},
   "source": [
    "## Evaluación del modelo con nuevos datos"
   ]
  },
  {
   "cell_type": "code",
   "execution_count": 1,
   "id": "7188ec47-eba0-473f-9399-7729597bf9a0",
   "metadata": {},
   "outputs": [
    {
     "name": "stdout",
     "output_type": "stream",
     "text": [
      "              precision    recall  f1-score   support\n",
      "\n",
      "           0      0.689     0.130     0.219   2676852\n",
      "           1      0.596     0.956     0.735   3600002\n",
      "\n",
      "    accuracy                          0.604   6276854\n",
      "   macro avg      0.643     0.543     0.477   6276854\n",
      "weighted avg      0.636     0.604     0.515   6276854\n",
      "\n"
     ]
    }
   ],
   "source": [
    "# Bootstrap (desde notebooks/)\n",
    "import sys\n",
    "from pathlib import Path\n",
    "ROOT = Path.cwd().parent\n",
    "sys.path.append(str(ROOT / \"src\"))\n",
    "\n",
    "from models.predict_model import (\n",
    "    load_model, make_dataset_from_raw, predict_proba,\n",
    "    predict_labels_from_proba, evaluate_binary, save_metrics_json\n",
    ")\n",
    "from data.dataset import load_data\n",
    "\n",
    "# 1) Cargar modelo\n",
    "model = load_model(ROOT / \"models\" / \"random_forest.joblib\")\n",
    "\n",
    "# 2) Cargar febrero 2020 crudo y preprocesar\n",
    "URL_FEB = \"https://d37ci6vzurychx.cloudfront.net/trip-data/yellow_tripdata_2020-02.parquet\"\n",
    "df_raw = load_data(URL_FEB, filetype=\"parquet\")\n",
    "X_test, y_test, df_proc = make_dataset_from_raw(df_raw, target_col=\"high_tip\")\n",
    "\n",
    "# 3) Predecir + métricas\n",
    "proba = predict_proba(model, X_test)\n",
    "y_pred = predict_labels_from_proba(proba, threshold=0.5)\n",
    "metrics = evaluate_binary(y_true=y_test, y_pred=y_pred, y_proba=proba)\n",
    "print(metrics[\"classification_report\"])\n",
    "\n",
    "# 4) Guardar métricas\n",
    "save_metrics_json(metrics, ROOT / \"reports\" / \"metrics_eval_feb2020.json\")\n"
   ]
  },
  {
   "cell_type": "code",
   "execution_count": null,
   "id": "8ba884d0-e61a-408a-bdb3-40fee801a43c",
   "metadata": {},
   "outputs": [],
   "source": []
  }
 ],
 "metadata": {
  "kernelspec": {
   "display_name": "Python 3 (ipykernel)",
   "language": "python",
   "name": "python3"
  },
  "language_info": {
   "codemirror_mode": {
    "name": "ipython",
    "version": 3
   },
   "file_extension": ".py",
   "mimetype": "text/x-python",
   "name": "python",
   "nbconvert_exporter": "python",
   "pygments_lexer": "ipython3",
   "version": "3.10.18"
  }
 },
 "nbformat": 4,
 "nbformat_minor": 5
}
